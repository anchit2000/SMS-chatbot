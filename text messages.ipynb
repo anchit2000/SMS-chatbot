{
 "cells": [
  {
   "cell_type": "code",
   "execution_count": 1,
   "metadata": {},
   "outputs": [],
   "source": [
    "from ipaddress import IPv4Address  # for your IP address\n",
    "from pyairmore.request import AirmoreSession  # to create an AirmoreSession\n",
    "from pyairmore.services.messaging import MessagingService  # to send messages\n",
    "\n",
    "import time\n",
    "import random\n",
    "import schedule\n",
    "import subprocess\n",
    "import utils\n",
    "\n"
   ]
  },
  {
   "cell_type": "code",
   "execution_count": 2,
   "metadata": {},
   "outputs": [
    {
     "data": {
      "text/plain": [
       "True"
      ]
     },
     "execution_count": 2,
     "metadata": {},
     "output_type": "execute_result"
    }
   ],
   "source": [
    "ip = IPv4Address(\"192.168.29.248\")  # let's create an IP address object\n",
    "# now create a session\n",
    "session = AirmoreSession(ip)\n",
    "# if your port is not 2333\n",
    "# session = AirmoreSession(ip, 2334)  # assuming it is 2334\n",
    "\n",
    "session.is_server_running  # True if Airmore is running\n",
    "\n"
   ]
  },
  {
   "cell_type": "code",
   "execution_count": 3,
   "metadata": {},
   "outputs": [
    {
     "name": "stdout",
     "output_type": "stream",
     "text": [
      "True\n"
     ]
    }
   ],
   "source": [
    "was_accepted = session.request_authorization()\n",
    "\n",
    "print(was_accepted)  # True if accepted\n",
    "\n",
    "service = MessagingService(session)\n",
    "#service.send_message(\"8264096066\", \"Hello\")\n",
    "\n",
    "def send_message(number,response):\n",
    "\tservice.send_message(number, response)\n",
    "#send_message()\n",
    "\n",
    "\n",
    "#schedule.every().day.at(\"14:06\").do(send_message)\n",
    "#print(\"Message was sent\")\n",
    "\n",
    "#while True:\n",
    "#\tschedule.run_pending()\n",
    "#\ttime.sleep(1)\n",
    "\n",
    "\n"
   ]
  },
  {
   "cell_type": "code",
   "execution_count": 4,
   "metadata": {},
   "outputs": [
    {
     "name": "stdout",
     "output_type": "stream",
     "text": [
      "\"Beware while dealing based on unsolicited tips through Whatsapp, telegram, SMS, calls, etc. and take an informed decision. Visit https://bit.ly/38A0nIP\"\n",
      "True\n",
      "VM-NSESMS\n"
     ]
    }
   ],
   "source": [
    "messages = service.fetch_message_history()\n",
    "messages  # a list of Message objects\n",
    "print(messages[3].content)\n",
    "print(messages[3].was_read)\n",
    "print(messages[3].phone)"
   ]
  },
  {
   "cell_type": "code",
   "execution_count": 5,
   "metadata": {},
   "outputs": [],
   "source": [
    "from chatterbot import ChatBot\n",
    "from chatterbot.trainers import ListTrainer"
   ]
  },
  {
   "cell_type": "code",
   "execution_count": null,
   "metadata": {},
   "outputs": [
    {
     "name": "stdout",
     "output_type": "stream",
     "text": [
      "List Trainer: [####################] 100%\n"
     ]
    }
   ],
   "source": [
    "bot = ChatBot(\"My Bot\")\n",
    "convo = [\n",
    "         'hello',\n",
    "         'hi there!',\n",
    "         'what is your name?',\n",
    "         'My name is bot, I am created by Anchit',\n",
    "         'how are you?',\n",
    "         'I am good, thank you. How are you?',\n",
    "         'i am also good',\n",
    "         'Great!',\n",
    "         'bye',\n",
    "         'have a great day'\n",
    "]\n",
    "trainer = ListTrainer(bot)\n",
    "trainer.train(convo)\n",
    "test = \"\"\n",
    "while True:##we can set that it (the chatbot) closes when we say bye by using while request != 'bye'\n",
    "    messages = service.fetch_message_history()\n",
    "    if messages[0].was_read == False and test!=messages[0].content:\n",
    "        request = messages[0].content\n",
    "        response = bot.get_response(request)\n",
    "        send_message(messages[0].phone,response)\n",
    "        test = request"
   ]
  },
  {
   "cell_type": "code",
   "execution_count": null,
   "metadata": {},
   "outputs": [],
   "source": []
  }
 ],
 "metadata": {
  "kernelspec": {
   "display_name": "Python 3",
   "language": "python",
   "name": "python3"
  },
  "language_info": {
   "codemirror_mode": {
    "name": "ipython",
    "version": 3
   },
   "file_extension": ".py",
   "mimetype": "text/x-python",
   "name": "python",
   "nbconvert_exporter": "python",
   "pygments_lexer": "ipython3",
   "version": "3.7.9"
  }
 },
 "nbformat": 4,
 "nbformat_minor": 4
}
